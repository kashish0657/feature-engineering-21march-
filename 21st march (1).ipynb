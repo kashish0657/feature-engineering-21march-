{
 "cells": [
  {
   "cell_type": "markdown",
   "id": "ac5a15ec-b0f2-4ada-bab5-ca64f6ff778b",
   "metadata": {},
   "source": [
    "## 21st March"
   ]
  },
  {
   "cell_type": "markdown",
   "id": "ffced79a-3334-46db-9739-82ed88b083a2",
   "metadata": {},
   "source": [
    "## Q:1:- What is the difference between ordinal encoding and label encoding ? Provide an example of when you might choose one over the other ."
   ]
  },
  {
   "cell_type": "code",
   "execution_count": null,
   "id": "50bb3727-4702-4c42-ab47-1933ace3c621",
   "metadata": {},
   "outputs": [],
   "source": [
    "ans:-\n",
    "\n",
    "Ordinal encoding and label encoding are both techniques used to convert categorical\n",
    "variables into numerical values, which can be easier for machine learning algorithms\n",
    "to process. However, they are used in different scenarios and have some key differences.\n",
    "\n",
    "Label Encoding:\n",
    "Label encoding involves assigning a unique numerical label to each category in a\n",
    "categorical variable. The order or relationship between the categories is not taken \n",
    "into account. This method is typically used for nominal variables (variables with no inherent order).\n",
    "For example:\n",
    "Category\tLabel\n",
    "Red\t          0\n",
    "Blue\t      1\n",
    "Green\t      2\n",
    "Yellow\t      3\n",
    "Purple\t      4\n",
    "Label encoding is simple to implement and can work well with algorithms that can\n",
    "handle ordinal data or where the order doesn't matter. However, it may introduce\n",
    "unintended ordinal relationships in some algorithms.\n",
    "\n",
    "Ordinal Encoding:\n",
    "Ordinal encoding, on the other hand, is used when the categorical variable has a \n",
    "clear ordinal relationship or meaningful order. In this method, each category is\n",
    "assigned a numerical value based on its order or rank. This encoding preserves the\n",
    "inherent order of the categories. For example, consider an \"Education Level\" variable:\n",
    "Category\tOrdinal Value\n",
    "High School\t      1\n",
    "Bachelor's\t      2\n",
    "Master's\t      3\n",
    "PhD\t              4\n",
    "Ordinal encoding is useful when there is a logical progression or ranking among\n",
    "categories. This encoding can capture the ordinal information and may improve the\n",
    "performance of algorithms that consider the order of the values.\n",
    "\n",
    "Example:\n",
    "Suppose you are working on a dataset related to customer feedback on a product.\n",
    "One of the features is \"Satisfaction Level,\" which has categories like \"Very Dissatisfied,\"\n",
    "\"Dissatisfied,\" \"Neutral,\" \"Satisfied,\" and \"Very Satisfied.\" In this case, you could choose\n",
    "ordinal encoding because the categories have a clear ordinal relationship, and the order of\n",
    "satisfaction levels matters. You would assign numerical values based on the satisfaction \n",
    "ranking to capture this information accurately.\n"
   ]
  },
  {
   "cell_type": "markdown",
   "id": "9d8ba33d-b1d0-404f-b7c6-9bc867c6a4f9",
   "metadata": {},
   "source": [
    "## Q:2:- Explain how Target Guided Encoding works and provide an example of when you might use it in a machine learning project ."
   ]
  },
  {
   "cell_type": "code",
   "execution_count": null,
   "id": "f362ef11-e295-498c-b27f-307078f931f1",
   "metadata": {},
   "outputs": [],
   "source": [
    "ans:-\n",
    "\n",
    "Target Guided Encoding (TGE) is a technique used in feature engineering for\n",
    "machine learning, particularly in the context of categorical variables. The\n",
    "main goal of TGE is to encode categorical variables in a way that leverages \n",
    "the relationship between the categorical variable and the target variable of \n",
    "interest. By incorporating target information into the encoding process, TGE \n",
    "aims to improve the predictive power of the encoded features.\n",
    "\n",
    "The general idea behind Target Guided Encoding involves calculating statistical\n",
    "measures or aggregations for each category of a categorical variable with respect\n",
    "to the target variable. These measures reflect how each category is associated\n",
    "with the target variable's outcome. These calculated measures are then used as\n",
    "the encoded values for the corresponding categories.\n",
    "\n",
    "Here's a step-by-step breakdown of how Target Guided Encoding works:\n",
    "\n",
    "Calculate Target Statistics: For each category in the categorical variable, \n",
    "calculate statistical measures related to the target variable. Common statistics\n",
    "include mean, median, mode, standard deviation, count, and more. These statistics\n",
    "capture the distribution of the target variable within each category.\n",
    "\n",
    "Encode Categories: Replace the original categorical values with the calculated\n",
    "target statistics. Each category is encoded with the corresponding statistic value.\n",
    "\n",
    "Train Machine Learning Model: Use the encoded categorical features along with\n",
    "other features to train a machine learning model.\n",
    "\n",
    "Apply Encoding to Test Data: When making predictions on new data, use the same \n",
    "encoding scheme on the categorical variables in the test dataset. Replace the\n",
    "original categorical values with the corresponding calculated statistics.\n",
    "\n",
    "By using Target Guided Encoding, the model can learn how different categories\n",
    "of a categorical variable are related to the target variable, potentially\n",
    "leading to improved predictive performance.\n"
   ]
  },
  {
   "cell_type": "markdown",
   "id": "35359f78-4423-4a83-aa9a-1e6eaf5ea23e",
   "metadata": {},
   "source": [
    "## Q:3:- Define covariance and explain why it is important in statistical analysis . How is covariance calculate ?"
   ]
  },
  {
   "cell_type": "code",
   "execution_count": null,
   "id": "4dc9a54c-6181-4c55-a048-66aaf93fc8b9",
   "metadata": {},
   "outputs": [],
   "source": [
    "ans:-\n",
    "\n",
    "Covariance is a statistical concept that measures the degree to which two \n",
    "variables change together. In other words, it quantifies the relationship \n",
    "between two variables, indicating whether they tend to increase or decrease\n",
    "together or if they are independent of each other. It provides insights into \n",
    "the direction and strength of the linear relationship between two variables.\n",
    "\n",
    "Importance of Covariance in Statistical Analysis:\n",
    "Covariance plays a crucial role in statistical analysis for several reasons:\n",
    "\n",
    "Relationship Detection: Covariance helps determine whether two variables are \n",
    "positively correlated (increase together), negatively correlated\n",
    "(one increases while the other decreases), or uncorrelated (no consistent pattern).\n",
    "This information is valuable in understanding patterns and relationships in data.\n",
    "\n",
    "Portfolio Management: In finance, covariance is used to assess the risk and \n",
    "diversification potential of investment portfolios. A portfolio with assets that\n",
    "have low or negative covariance is generally more diversified and less risky.\n",
    "\n",
    "Regression Analysis: Covariance is involved in regression analysis, which is used\n",
    "to model and predict the relationship between variables. It is used to calculate\n",
    "regression coefficients and evaluate the goodness of fit of the model.\n",
    "\n",
    "Multivariate Analysis: Covariance is essential in multivariate statistical\n",
    "techniques, where relationships among more than two variables are examined \n",
    "simultaneously, such as principal component analysis and factor analysis.\n",
    "\n",
    "Image Processing: In image processing, covariance matrices are used to analyze\n",
    "and manipulate images, including techniques like edge detection and texture analysis.\n"
   ]
  },
  {
   "cell_type": "markdown",
   "id": "eaffdb81-669b-4fe0-a262-e0114de78401",
   "metadata": {},
   "source": [
    "## Q:4:- For a dataset with the following categorical variables : Color (red,green,blue), sixe (small,medium,large), and material (wood,metal,plastic), perform label encoding using python's scikit-learn library. Show your code and explain the output ."
   ]
  },
  {
   "cell_type": "code",
   "execution_count": 1,
   "id": "0e4cc3c9-3526-44d5-a259-9c103634f6b4",
   "metadata": {},
   "outputs": [
    {
     "name": "stdout",
     "output_type": "stream",
     "text": [
      "   Color  Size  Material\n",
      "0      2     2         2\n",
      "1      1     1         0\n",
      "2      0     0         1\n",
      "3      2     1         0\n",
      "4      1     2         2\n"
     ]
    }
   ],
   "source": [
    "from sklearn.preprocessing import LabelEncoder\n",
    "import pandas as pd\n",
    "\n",
    "# Sample dataset\n",
    "data = {\n",
    "    'Color': ['red', 'green', 'blue', 'red', 'green'],\n",
    "    'Size': ['small', 'medium', 'large', 'medium', 'small'],\n",
    "    'Material': ['wood', 'metal', 'plastic', 'metal', 'wood']\n",
    "}\n",
    "\n",
    "# Convert the data dictionary into a DataFrame\n",
    "df = pd.DataFrame(data)\n",
    "\n",
    "# Initialize the LabelEncoder\n",
    "label_encoder = LabelEncoder()\n",
    "\n",
    "# Apply label encoding to each column\n",
    "for column in df.columns:\n",
    "    df[column] = label_encoder.fit_transform(df[column])\n",
    "\n",
    "print(df)\n"
   ]
  },
  {
   "cell_type": "markdown",
   "id": "9c74f56a-d206-4cd2-9b0c-e5d97cec5673",
   "metadata": {},
   "source": [
    "## Q:5:- Calculate the covariance matrix for the following variables in a dataset : Age , Income , and Education level , interpret the results."
   ]
  },
  {
   "cell_type": "code",
   "execution_count": null,
   "id": "0cb4bb7f-c752-4f30-b5b0-fd960d74824c",
   "metadata": {},
   "outputs": [],
   "source": [
    "ans:-\n",
    "\n",
    "Let's assume you have a dataset with n data points and three variables:\n",
    "    Age (A), Income (I), and Education level (E).\n",
    "\n",
    "Calculate the means (average) of each variable:\n",
    "\n",
    "Mean of Age (mean_A)\n",
    "Mean of Income (mean_I)\n",
    "Mean of Education level (mean_E)\n",
    "Calculate the deviations from the means for each data point:\n",
    "\n",
    "Deviation of Age for each data point (dev_A = Age - mean_A)\n",
    "Deviation of Income for each data point (dev_I = Income - mean_I)\n",
    "Deviation of Education level for each data point (dev_E = Education - mean_E)\n",
    "Calculate the covariance between pairs of variables using the formula:\n",
    "\n",
    "Covariance(Age, Income) = Σ(dev_A * dev_I) / (n - 1)\n",
    "Covariance(Age, Education) = Σ(dev_A * dev_E) / (n - 1)\n",
    "Covariance(Income, Education) = Σ(dev_I * dev_E) / (n - 1)\n",
    "\n",
    "Assemble the covariance matrix:"
   ]
  },
  {
   "cell_type": "code",
   "execution_count": null,
   "id": "4d5cbaed-5b0b-4c6a-bf05-145d46f51767",
   "metadata": {},
   "outputs": [],
   "source": [
    "| Cov(Age, Age)       Cov(Age, Income)     Cov(Age, Education) |\n",
    "| Cov(Income, Age)    Cov(Income, Income)  Cov(Income, Education) |\n",
    "| Cov(Education, Age) Cov(Education, Income) Cov(Education, Education) |\n"
   ]
  },
  {
   "cell_type": "code",
   "execution_count": null,
   "id": "83c4fcc7-48fe-4c6e-bad3-59aa5c18dda5",
   "metadata": {},
   "outputs": [],
   "source": [
    "## Q:6:- You are working on an machine learning project with a dataset containing several categorical variables , including \"Gender\" (Male/Female), \"Education Level\" (High school/Bachelor's/Master's/Phd), and \"Employment Status\""
   ]
  }
 ],
 "metadata": {
  "kernelspec": {
   "display_name": "Python 3 (ipykernel)",
   "language": "python",
   "name": "python3"
  },
  "language_info": {
   "codemirror_mode": {
    "name": "ipython",
    "version": 3
   },
   "file_extension": ".py",
   "mimetype": "text/x-python",
   "name": "python",
   "nbconvert_exporter": "python",
   "pygments_lexer": "ipython3",
   "version": "3.10.8"
  }
 },
 "nbformat": 4,
 "nbformat_minor": 5
}
